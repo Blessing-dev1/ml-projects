{
  "cells": [
    {
      "cell_type": "code",
      "source": [
        "import pandas as pd\n",
        "from sklearn.linear_model import Lasso\n",
        "from sklearn.model_selection import train_test_split\n",
        "from sklearn.metrics import r2_score\n",
        "\n",
        "\n",
        "\n",
        "# Sample dataset: Study hours, previous exam scores, and pass/fail labels\n",
        "data = {\n",
        "    'StudyHours': [1, 2, 3, 4, 5, 6, 7, 8, 9, 10],\n",
        "    'PrevExamScore': [30, 40, 45, 50, 60, 65, 70, 75, 80, 85],\n",
        "    'Pass': [0, 0, 0, 0, 0, 1, 1, 1, 1, 1]  # 0 = Fail, 1 = Pass\n",
        "}\n",
        "\n",
        "df = pd.DataFrame(data)\n",
        "\n",
        "# Features and target variable\n",
        "X = df[['StudyHours', 'PrevExamScore']]  # Features\n",
        "y = df['Pass']  # Target variable\n",
        "\n",
        "\n",
        "\n",
        "\n",
        "# Split the data into training and testing sets (80% training, 20% testing)\n",
        "X_train, X_test, y_train, y_test = train_test_split(X, y, test_size=0.2, random_state=42)\n",
        "\n",
        "\n",
        "\n",
        "# Initialize the LASSO model with alpha (regularization parameter)\n",
        "lasso_model = Lasso(alpha=0.1)\n",
        "\n",
        "# Train the model on the training data\n",
        "lasso_model.fit(X_train, y_train)\n",
        "\n",
        "# Make predictions on the test data\n",
        "y_pred = lasso_model.predict(X_test)\n",
        "\n",
        "# Evaluate the model's performance using R-squared\n",
        "r2 = r2_score(y_test, y_pred)\n",
        "print(f'R-squared score: {r2}')\n",
        "\n",
        "\n",
        "\n",
        "# Display the coefficients of the features\n",
        "print(f'LASSO Coefficients: {lasso_model.coef_}')\n",
        "\n",
        "\n",
        "\n",
        "\n",
        "# Try different alpha values and compare the results\n",
        "for alpha in [0.01, 0.05, 0.1, 0.5, 1.0]:\n",
        "    lasso_model = Lasso(alpha=alpha)\n",
        "    lasso_model.fit(X_train, y_train)\n",
        "    y_pred = lasso_model.predict(X_test)\n",
        "    r2 = r2_score(y_test, y_pred)\n",
        "    print(f'Alpha: {alpha}, R-squared score: {r2}, Coefficients: {lasso_model.coef_}')"
      ],
      "outputs": [
        {
          "output_type": "stream",
          "name": "stdout",
          "text": "R-squared score: 0.9997884297520662\nLASSO Coefficients: [0.         0.02463636]\nAlpha: 0.01, R-squared score: 0.9981491660809606, Coefficients: [0.08153909 0.01180619]\nAlpha: 0.05, R-squared score: 0.9999471074380165, Coefficients: [0.         0.02481818]\nAlpha: 0.1, R-squared score: 0.9997884297520662, Coefficients: [0.         0.02463636]\nAlpha: 0.5, R-squared score: 0.9947107438016529, Coefficients: [0.         0.02318182]\nAlpha: 1.0, R-squared score: 0.9788429752066116, Coefficients: [0.         0.02136364]\n"
        }
      ],
      "execution_count": 3,
      "metadata": {
        "gather": {
          "logged": 1752865189662
        }
      }
    },
    {
      "cell_type": "code",
      "source": [],
      "outputs": [],
      "execution_count": null,
      "metadata": {}
    }
  ],
  "metadata": {
    "kernelspec": {
      "name": "python310-sdkv2",
      "language": "python",
      "display_name": "Python 3.10 - SDK v2"
    },
    "language_info": {
      "name": "python",
      "version": "3.10.16",
      "mimetype": "text/x-python",
      "codemirror_mode": {
        "name": "ipython",
        "version": 3
      },
      "pygments_lexer": "ipython3",
      "nbconvert_exporter": "python",
      "file_extension": ".py"
    },
    "microsoft": {
      "ms_spell_check": {
        "ms_spell_check_language": "en"
      }
    },
    "kernel_info": {
      "name": "python310-sdkv2"
    },
    "nteract": {
      "version": "nteract-front-end@1.0.0"
    }
  },
  "nbformat": 4,
  "nbformat_minor": 2
}